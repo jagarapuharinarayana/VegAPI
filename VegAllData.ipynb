{
 "cells": [
  {
   "cell_type": "code",
   "execution_count": 33,
   "id": "57d96128",
   "metadata": {},
   "outputs": [],
   "source": [
    "def get_veg_data(city):\n",
    "    try:\n",
    "        import pandas as pd\n",
    "        import requests\n",
    "        from bs4 import BeautifulSoup\n",
    "        url = f\"https://vegetablemarketprice.com/market/{city}/today\"\n",
    "        df = pd.read_html(url)\n",
    "        df = df[0]\n",
    "        df['Wholesale Price']=df['Wholesale Price'].apply(lambda x:x[1:])\n",
    "        df['Retail Price']=df['Retail Price'].apply(lambda x:x[1:])\n",
    "        df['Shopping Mall']=df['Shopping Mall'].apply(lambda x:x[1:])\n",
    "        df.rename(columns={\"Wholesale Price\":\"WholesalePrice\",\"Retail Price\":\"RetailPrice\",\"Shopping Mall\":\"ShoppingMall\"},inplace=True)\n",
    "        df.drop(\"Unnamed: 0\",axis=1,inplace=True)\n",
    "        d = []\n",
    "        for i in range(len(df)):\n",
    "            d.append(df.iloc[i].to_dict())\n",
    "        D = {}\n",
    "        D[\"Vegetables\"] = d\n",
    "\n",
    "\n",
    "        req = requests.get(url)\n",
    "        soup = BeautifulSoup(req.content,\"html.parser\")\n",
    "        img = []\n",
    "        for i in soup.findAll(\"div\",{\"class\":\"vegetableImageDiv\"}):\n",
    "            img.append(\"https://vegetablemarketprice.com\"+i.get(\"image-src-file\"))\n",
    "        imgs = []\n",
    "        for i in range(len(img)):\n",
    "            imgs.append(img[i].split(\"-\")[0]+\"-\"+img[i].split(\"-\")[-1].replace(\"64\",\"256\"))\n",
    "        for i,j in zip(D[\"Vegetables\"],imgs):\n",
    "            i[\"Image\"] = j\n",
    "        return D\n",
    "    except Exception as e:\n",
    "        raise e"
   ]
  },
  {
   "cell_type": "code",
   "execution_count": 53,
   "id": "b3ca4455",
   "metadata": {},
   "outputs": [],
   "source": [
    "def get_veg_data_Updated(URL):\n",
    "    try:\n",
    "        import pandas as pd\n",
    "        import requests\n",
    "        from bs4 import BeautifulSoup\n",
    "        url = URL\n",
    "        df = pd.read_html(url)\n",
    "        df = df[0]\n",
    "        df['Wholesale Price']=df['Wholesale Price'].apply(lambda x:x[1:])\n",
    "        df['Retail Price']=df['Retail Price'].apply(lambda x:x[1:])\n",
    "        df['Shopping Mall']=df['Shopping Mall'].apply(lambda x:x[1:])\n",
    "        df.rename(columns={\"Wholesale Price\":\"WholesalePrice\",\"Retail Price\":\"RetailPrice\",\"Shopping Mall\":\"ShoppingMall\"},inplace=True)\n",
    "        df.drop(\"Unnamed: 0\",axis=1,inplace=True)\n",
    "        d = []\n",
    "        for i in range(len(df)):\n",
    "            d.append(df.iloc[i].to_dict())\n",
    "        D = {}\n",
    "        D[\"Vegetables\"] = d\n",
    "\n",
    "\n",
    "        req = requests.get(url)\n",
    "        soup = BeautifulSoup(req.content,\"html.parser\")\n",
    "        img = []\n",
    "        for i in soup.findAll(\"div\",{\"class\":\"vegetableImageDiv\"}):\n",
    "            img.append(\"https://vegetablemarketprice.com\"+i.get(\"image-src-file\"))\n",
    "        imgs = []\n",
    "        for i in range(len(img)):\n",
    "            imgs.append(img[i].split(\"-\")[0]+\"-\"+img[i].split(\"-\")[-1].replace(\"64\",\"256\"))\n",
    "        for i,j in zip(D[\"Vegetables\"],imgs):\n",
    "            i[\"Image\"] = j\n",
    "        return D\n",
    "    except Exception as e:\n",
    "        raise e"
   ]
  },
  {
   "cell_type": "code",
   "execution_count": null,
   "id": "ba612c2e",
   "metadata": {},
   "outputs": [],
   "source": []
  },
  {
   "cell_type": "code",
   "execution_count": null,
   "id": "f5b83934",
   "metadata": {},
   "outputs": [],
   "source": []
  },
  {
   "cell_type": "code",
   "execution_count": 54,
   "id": "adf5a239",
   "metadata": {
    "scrolled": false
   },
   "outputs": [],
   "source": [
    "def saveData(city,name):\n",
    "    df = pd.DataFrame(get_veg_data(city)['Vegetables'])\n",
    "    import os\n",
    "    os.makedirs(\"VegFolder\",exist_ok=True)\n",
    "    df.to_csv(f\"VegFolder/{name}.csv\",index = False)\n",
    "    return f\"VegFolder/{name}.csv file created successfully..!\""
   ]
  },
  {
   "cell_type": "code",
   "execution_count": 55,
   "id": "05733769",
   "metadata": {},
   "outputs": [
    {
     "data": {
      "text/plain": [
       "'VegFolder/mumbai.csv file created successfully..!'"
      ]
     },
     "execution_count": 55,
     "metadata": {},
     "output_type": "execute_result"
    }
   ],
   "source": [
    "saveData(\"mumbai\",\"mumbai\")"
   ]
  },
  {
   "cell_type": "code",
   "execution_count": 68,
   "id": "565604d9",
   "metadata": {
    "scrolled": false
   },
   "outputs": [
    {
     "name": "stdout",
     "output_type": "stream",
     "text": [
      "-------------------------------------------------------------------------------------------------------------------\n",
      "Data not in gud format ('Koyambedu market price', 'https://vegetablemarketprice.com/market/koyambedu/today')\n",
      "-------------------------------------------------------------------------------------------------------------------\n",
      "VegFolder/TamilNadu market price.csv file created successfully..!\n",
      "VegFolder/Andhra Pradesh market price.csv file created successfully..!\n",
      "VegFolder/Bangalore market price.csv file created successfully..!\n",
      "VegFolder/Coimbatore market price.csv file created successfully..!\n",
      "VegFolder/Kerala market price.csv file created successfully..!\n",
      "VegFolder/Telangana market price.csv file created successfully..!\n",
      "VegFolder/Madurai market price.csv file created successfully..!\n",
      "VegFolder/Karnataka market price.csv file created successfully..!\n",
      "VegFolder/Tiruchirappalli market price.csv file created successfully..!\n",
      "VegFolder/Chennai market price.csv file created successfully..!\n",
      "VegFolder/Salem market price.csv file created successfully..!\n",
      "VegFolder/Maharashtra market price.csv file created successfully..!\n",
      "VegFolder/Tirupur market price.csv file created successfully..!\n",
      "VegFolder/Tirunelveli market price.csv file created successfully..!\n",
      "VegFolder/Dindigul market price.csv file created successfully..!\n",
      "VegFolder/Erode market price.csv file created successfully..!\n",
      "VegFolder/Hyderabad market price.csv file created successfully..!\n",
      "VegFolder/Hosur market price.csv file created successfully..!\n",
      "VegFolder/Dharmapuri market price.csv file created successfully..!\n",
      "VegFolder/Mumbai market price.csv file created successfully..!\n",
      "VegFolder/Delhi market price.csv file created successfully..!\n",
      "VegFolder/West Bengal market price.csv file created successfully..!\n",
      "VegFolder/Visakhapatnam market price.csv file created successfully..!\n"
     ]
    }
   ],
   "source": [
    "import pandas as pd\n",
    "import requests\n",
    "from bs4 import BeautifulSoup\n",
    "\n",
    "all = {}\n",
    "url = \"https://vegetablemarketprice.com/\"\n",
    "req = requests.get(url)\n",
    "soup = BeautifulSoup(req.content,\"html.parser\")\n",
    "for i in soup.findAll(\"a\",{\"class\":\"market-link\"}):\n",
    "#     print(i.text.strip())\n",
    "#     print(\"https://vegetablemarketprice.com\"+i.get(\"href\"))\n",
    "    all[i.text.strip()] = \"https://vegetablemarketprice.com\"+i.get(\"href\")\n",
    "ALL = {}\n",
    "for i,j in all.items():\n",
    "    if \"history\" in i:\n",
    "        continue\n",
    "    else:\n",
    "        ALL[i] = j\n",
    "def saveDataUpdated(url,name):\n",
    "    df = pd.DataFrame(get_veg_data_Updated(url)['Vegetables'])\n",
    "    import os\n",
    "    os.makedirs(\"VegFolder\",exist_ok=True)\n",
    "    df.to_csv(f\"VegFolder/{name}.csv\",index = False)\n",
    "    return f\"VegFolder/{name}.csv file created successfully..!\"    \n",
    "\n",
    "for k,v in ALL.items():\n",
    "    try:\n",
    "        print(saveDataUpdated(v,k))\n",
    "    except Exception as e:\n",
    "        print(\"-\"*115)\n",
    "        print(f\"Data not in gud format {k,v}\")\n",
    "        print(\"-\"*115)\n",
    "        continue\n"
   ]
  },
  {
   "cell_type": "code",
   "execution_count": 57,
   "id": "9e69a142",
   "metadata": {},
   "outputs": [
    {
     "data": {
      "text/plain": [
       "'VegFolder/Andhra.csv file created successfully..!'"
      ]
     },
     "execution_count": 57,
     "metadata": {},
     "output_type": "execute_result"
    }
   ],
   "source": [
    "saveDataUpdated(\"https://vegetablemarketprice.com/market/andhraPradesh/today\",\"Andhra\")"
   ]
  },
  {
   "cell_type": "code",
   "execution_count": 63,
   "id": "6abff7ef",
   "metadata": {
    "scrolled": true
   },
   "outputs": [],
   "source": []
  },
  {
   "cell_type": "code",
   "execution_count": null,
   "id": "38651791",
   "metadata": {},
   "outputs": [],
   "source": []
  }
 ],
 "metadata": {
  "kernelspec": {
   "display_name": "Python 3 (ipykernel)",
   "language": "python",
   "name": "python3"
  },
  "language_info": {
   "codemirror_mode": {
    "name": "ipython",
    "version": 3
   },
   "file_extension": ".py",
   "mimetype": "text/x-python",
   "name": "python",
   "nbconvert_exporter": "python",
   "pygments_lexer": "ipython3",
   "version": "3.11.0"
  }
 },
 "nbformat": 4,
 "nbformat_minor": 5
}
